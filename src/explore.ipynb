{
    "cells": [
        {
            "cell_type": "markdown",
            "metadata": {},
            "source": [
                "# Explore here"
            ]
        },
        {
            "cell_type": "code",
            "execution_count": 1,
            "metadata": {},
            "outputs": [
                {
                    "name": "stderr",
                    "output_type": "stream",
                    "text": [
                        "2025-02-04 15:37:32.587840: I tensorflow/core/util/port.cc:153] oneDNN custom operations are on. You may see slightly different numerical results due to floating-point round-off errors from different computation orders. To turn them off, set the environment variable `TF_ENABLE_ONEDNN_OPTS=0`.\n",
                        "2025-02-04 15:37:32.602184: I external/local_xla/xla/tsl/cuda/cudart_stub.cc:32] Could not find cuda drivers on your machine, GPU will not be used.\n",
                        "2025-02-04 15:37:33.482197: I external/local_xla/xla/tsl/cuda/cudart_stub.cc:32] Could not find cuda drivers on your machine, GPU will not be used.\n",
                        "2025-02-04 15:37:33.677365: E external/local_xla/xla/stream_executor/cuda/cuda_fft.cc:477] Unable to register cuFFT factory: Attempting to register factory for plugin cuFFT when one has already been registered\n",
                        "WARNING: All log messages before absl::InitializeLog() is called are written to STDERR\n",
                        "E0000 00:00:1738683454.041337     817 cuda_dnn.cc:8310] Unable to register cuDNN factory: Attempting to register factory for plugin cuDNN when one has already been registered\n",
                        "E0000 00:00:1738683454.145921     817 cuda_blas.cc:1418] Unable to register cuBLAS factory: Attempting to register factory for plugin cuBLAS when one has already been registered\n",
                        "2025-02-04 15:37:39.635080: I tensorflow/core/platform/cpu_feature_guard.cc:210] This TensorFlow binary is optimized to use available CPU instructions in performance-critical operations.\n",
                        "To enable the following instructions: AVX2 AVX512F AVX512_VNNI FMA, in other operations, rebuild TensorFlow with the appropriate compiler flags.\n"
                    ]
                }
            ],
            "source": [
                "import pandas as pd\n",
                "import numpy as np\n",
                "\n",
                "import matplotlib.pyplot as plt\n",
                "import seaborn as sns\n",
                "\n",
                "import tensorflow as tf\n",
                "from tensorflow.keras.losses import SparseCategoricalCrossentropy\n",
                "from tensorflow.keras.datasets import mnist\n",
                "\n",
                "from sklearn.model_selection import train_test_split\n",
                "from sklearn.metrics import accuracy_score\n",
                "\n",
                "\n",
                "import warnings"
            ]
        },
        {
            "cell_type": "code",
            "execution_count": 15,
            "metadata": {},
            "outputs": [
                {
                    "name": "stdout",
                    "output_type": "stream",
                    "text": [
                        "❌ La ruta NO existe\n"
                    ]
                }
            ],
            "source": [
                "import os\n",
                "\n",
                "ruta = \"/workspaces/Clasificador_de_Imagenes/data/imagenes_train\"\n",
                "\n",
                "if os.path.exists(ruta):\n",
                "    print(\"✅ La ruta existe\")\n",
                "else:\n",
                "    print(\"❌ La ruta NO existe\")\n"
            ]
        },
        {
            "cell_type": "code",
            "execution_count": 14,
            "metadata": {},
            "outputs": [
                {
                    "ename": "FileNotFoundError",
                    "evalue": "[Errno 2] No such file or directory: '/workspaces/Clasificador_de_Imagenes/data/imagenes_train'",
                    "output_type": "error",
                    "traceback": [
                        "\u001b[0;31m---------------------------------------------------------------------------\u001b[0m",
                        "\u001b[0;31mFileNotFoundError\u001b[0m                         Traceback (most recent call last)",
                        "Cell \u001b[0;32mIn[14], line 24\u001b[0m\n\u001b[1;32m     21\u001b[0m     \u001b[38;5;28;01mreturn\u001b[39;00m images\n\u001b[1;32m     23\u001b[0m \u001b[38;5;66;03m# Cargar imágenes de perros y gatos\u001b[39;00m\n\u001b[0;32m---> 24\u001b[0m dog_images \u001b[38;5;241m=\u001b[39m \u001b[43mload_images_from_folder\u001b[49m\u001b[43m(\u001b[49m\u001b[43mtrain_dir\u001b[49m\u001b[43m,\u001b[49m\u001b[43m \u001b[49m\u001b[38;5;124;43m\"\u001b[39;49m\u001b[38;5;124;43mdog\u001b[39;49m\u001b[38;5;124;43m\"\u001b[39;49m\u001b[43m)\u001b[49m\n\u001b[1;32m     25\u001b[0m cat_images \u001b[38;5;241m=\u001b[39m load_images_from_folder(train_dir, \u001b[38;5;124m\"\u001b[39m\u001b[38;5;124mcat\u001b[39m\u001b[38;5;124m\"\u001b[39m)\n\u001b[1;32m     27\u001b[0m \u001b[38;5;66;03m# Función para mostrar 9 imágenes\u001b[39;00m\n",
                        "Cell \u001b[0;32mIn[14], line 13\u001b[0m, in \u001b[0;36mload_images_from_folder\u001b[0;34m(folder, label, max_images)\u001b[0m\n\u001b[1;32m     11\u001b[0m images \u001b[38;5;241m=\u001b[39m []\n\u001b[1;32m     12\u001b[0m count \u001b[38;5;241m=\u001b[39m \u001b[38;5;241m0\u001b[39m\n\u001b[0;32m---> 13\u001b[0m \u001b[38;5;28;01mfor\u001b[39;00m filename \u001b[38;5;129;01min\u001b[39;00m \u001b[43mos\u001b[49m\u001b[38;5;241;43m.\u001b[39;49m\u001b[43mlistdir\u001b[49m\u001b[43m(\u001b[49m\u001b[43mfolder\u001b[49m\u001b[43m)\u001b[49m:\n\u001b[1;32m     14\u001b[0m     \u001b[38;5;28;01mif\u001b[39;00m label \u001b[38;5;129;01min\u001b[39;00m filename:  \u001b[38;5;66;03m# Filtra por perros o gatos\u001b[39;00m\n\u001b[1;32m     15\u001b[0m         img_path \u001b[38;5;241m=\u001b[39m os\u001b[38;5;241m.\u001b[39mpath\u001b[38;5;241m.\u001b[39mjoin(folder, filename)\n",
                        "\u001b[0;31mFileNotFoundError\u001b[0m: [Errno 2] No such file or directory: '/workspaces/Clasificador_de_Imagenes/data/imagenes_train'"
                    ]
                }
            ],
            "source": [
                "import os\n",
                "import matplotlib.pyplot as plt\n",
                "from PIL import Image\n",
                "\n",
                "# Rutas de las carpetas de entrenamiento y prueba\n",
                "train_dir = \"/workspaces/Clasificador_de_Imagenes/data/imagenes_train\"\n",
                "test_dir = \"/workspaces/Clasificador_de_Imagenes/data/test1\"\n",
                "\n",
                "# Función para cargar imágenes de una carpeta\n",
                "def load_images_from_folder(folder, label, max_images=9):\n",
                "    images = []\n",
                "    count = 0\n",
                "    for filename in os.listdir(folder):\n",
                "        if label in filename:  # Filtra por perros o gatos\n",
                "            img_path = os.path.join(folder, filename)\n",
                "            img = Image.open(img_path)\n",
                "            images.append(img)\n",
                "            count += 1\n",
                "            if count >= max_images:\n",
                "                break\n",
                "    return images\n",
                "\n",
                "# Cargar imágenes de perros y gatos\n",
                "dog_images = load_images_from_folder(train_dir, \"dog\")\n",
                "cat_images = load_images_from_folder(train_dir, \"cat\")\n",
                "\n",
                "# Función para mostrar 9 imágenes\n",
                "def plot_images(images, title):\n",
                "    plt.figure(figsize=(10, 10))\n",
                "    for i, img in enumerate(images):\n",
                "        plt.subplot(3, 3, i + 1)\n",
                "        plt.imshow(img)\n",
                "        plt.axis(\"off\")\n",
                "    plt.suptitle(title, fontsize=16)\n",
                "    plt.show()\n",
                "\n",
                "# Mostrar 9 imágenes de perros y gatos\n",
                "plot_images(dog_images, \"Imágenes de Perros\")\n",
                "plot_images(cat_images, \"Imágenes de Gatos\")"
            ]
        }
    ],
    "metadata": {
        "kernelspec": {
            "display_name": "Python 3",
            "language": "python",
            "name": "python3"
        },
        "language_info": {
            "codemirror_mode": {
                "name": "ipython",
                "version": 3
            },
            "file_extension": ".py",
            "mimetype": "text/x-python",
            "name": "python",
            "nbconvert_exporter": "python",
            "pygments_lexer": "ipython3",
            "version": "3.10.12"
        },
        "orig_nbformat": 4
    },
    "nbformat": 4,
    "nbformat_minor": 2
}
